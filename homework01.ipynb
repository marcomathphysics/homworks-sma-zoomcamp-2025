{
 "cells": [
  {
   "cell_type": "markdown",
   "id": "07685e62-f7d9-4cc4-866f-6ef322d2073c",
   "metadata": {},
   "source": [
    "# Question 1. Which year had the highest number of additions to the S&P 500 index? (2 points)\n",
    "\n"
   ]
  },
  {
   "cell_type": "code",
   "execution_count": null,
   "id": "4e2ee832-4963-411f-9d6b-e09e8b6af3bc",
   "metadata": {},
   "outputs": [],
   "source": []
  },
  {
   "cell_type": "code",
   "execution_count": 158,
   "id": "02b0f124-029c-4a91-a162-21b399d41fde",
   "metadata": {},
   "outputs": [
    {
     "name": "stdout",
     "output_type": "stream",
     "text": [
      "  Symbol             Security             GICS Sector  \\\n",
      "0    MMM                   3M             Industrials   \n",
      "1    AOS          A. O. Smith             Industrials   \n",
      "2    ABT  Abbott Laboratories             Health Care   \n",
      "3   ABBV               AbbVie             Health Care   \n",
      "4    ACN            Accenture  Information Technology   \n",
      "\n",
      "                GICS Sub-Industry    Headquarters Location  Date added  \\\n",
      "0        Industrial Conglomerates    Saint Paul, Minnesota  1957-03-04   \n",
      "1               Building Products     Milwaukee, Wisconsin  2017-07-26   \n",
      "2           Health Care Equipment  North Chicago, Illinois  1957-03-04   \n",
      "3                   Biotechnology  North Chicago, Illinois  2012-12-31   \n",
      "4  IT Consulting & Other Services          Dublin, Ireland  2011-07-06   \n",
      "\n",
      "       CIK      Founded  \n",
      "0    66740         1902  \n",
      "1    91142         1916  \n",
      "2     1800         1888  \n",
      "3  1551152  2013 (1888)  \n",
      "4  1467373         1989  \n"
     ]
    }
   ],
   "source": [
    "import pandas as pd\n",
    "\n",
    "# URL of the Wikipedia page\n",
    "url = \"https://en.wikipedia.org/wiki/List_of_S%26P_500_companies\"\n",
    "\n",
    "# Read all tables on the page\n",
    "tables = pd.read_html(url)\n",
    "\n",
    "# The first table usually contains the list of S&P 500 companies\n",
    "sp500_df = tables[0]\n",
    "\n",
    "# Show the first few rows\n",
    "print(sp500_df.head())\n",
    "\n"
   ]
  },
  {
   "cell_type": "code",
   "execution_count": 159,
   "id": "e44d7818-adfd-4250-9b38-bdae04b51238",
   "metadata": {},
   "outputs": [],
   "source": [
    "sp500_df[\"year added\"]=[int(x.split(\"-\")[0]) for x in sp500_df[\"Date added\"].to_list()]"
   ]
  },
  {
   "cell_type": "code",
   "execution_count": 160,
   "id": "81dd7d86-4634-4c10-a889-03214255ade2",
   "metadata": {},
   "outputs": [
    {
     "data": {
      "text/plain": [
       "0      1957\n",
       "1      2017\n",
       "2      1957\n",
       "3      2012\n",
       "4      2011\n",
       "       ... \n",
       "498    2011\n",
       "499    1997\n",
       "500    2019\n",
       "501    2001\n",
       "502    2013\n",
       "Name: year added, Length: 503, dtype: int64"
      ]
     },
     "execution_count": 160,
     "metadata": {},
     "output_type": "execute_result"
    }
   ],
   "source": [
    "sp500_df[\"year added\"]"
   ]
  },
  {
   "cell_type": "code",
   "execution_count": 161,
   "id": "1f30a72c-2d95-405b-a44f-1b9bdfb70109",
   "metadata": {},
   "outputs": [
    {
     "name": "stdout",
     "output_type": "stream",
     "text": [
      "The year with the highest number of additions (excluding 1957) is 2016 with 23 companies added.\n"
     ]
    }
   ],
   "source": [
    "import pandas as pd\n",
    "\n",
    "sp500_df_filtered = sp500_df[sp500_df['year added'] != 1957]\n",
    "\n",
    "# Count the number of additions per year\n",
    "additions_per_year = sp500_df_filtered.groupby('year added').size()\n",
    "\n",
    "# Find the year with the highest number of additions\n",
    "max_additions_year = additions_per_year.idxmax()\n",
    "max_additions_count = additions_per_year.max()\n",
    "\n",
    "print(f\"The year with the highest number of additions (excluding 1957) is {max_additions_year} with {max_additions_count} companies added.\")\n"
   ]
  },
  {
   "cell_type": "code",
   "execution_count": 162,
   "id": "6d0256cb-656f-4852-b945-c07620f8f457",
   "metadata": {},
   "outputs": [
    {
     "name": "stdout",
     "output_type": "stream",
     "text": [
      "(23, 9)\n",
      "(23, 9)\n",
      "(22, 9)\n",
      "(17, 9)\n",
      "(15, 9)\n"
     ]
    }
   ],
   "source": [
    "for c in [2016,2017,2019,2008,2023]:\n",
    "    sp500_df_filtered = sp500_df[sp500_df['year added'] == c]\n",
    "    print(sp500_df_filtered.shape)\n"
   ]
  },
  {
   "cell_type": "markdown",
   "id": "7420d06d-a7a2-414c-8201-66badd47376b",
   "metadata": {},
   "source": [
    "# Question 2. How many indexes have better year-to-date returns than the US S&P500 as of May 1, 2025?"
   ]
  },
  {
   "cell_type": "code",
   "execution_count": 163,
   "id": "24707f61-d18c-4d73-ae6a-4839ef1a7be1",
   "metadata": {},
   "outputs": [
    {
     "data": {
      "text/html": [
       "<div>\n",
       "<style scoped>\n",
       "    .dataframe tbody tr th:only-of-type {\n",
       "        vertical-align: middle;\n",
       "    }\n",
       "\n",
       "    .dataframe tbody tr th {\n",
       "        vertical-align: top;\n",
       "    }\n",
       "\n",
       "    .dataframe thead th {\n",
       "        text-align: right;\n",
       "    }\n",
       "</style>\n",
       "<table border=\"1\" class=\"dataframe\">\n",
       "  <thead>\n",
       "    <tr style=\"text-align: right;\">\n",
       "      <th></th>\n",
       "      <th>Index</th>\n",
       "      <th>Ticker</th>\n",
       "      <th>YTD Return (%)</th>\n",
       "    </tr>\n",
       "  </thead>\n",
       "  <tbody>\n",
       "    <tr>\n",
       "      <th>0</th>\n",
       "      <td>United States - S&amp;P 500</td>\n",
       "      <td>^GSPC</td>\n",
       "      <td>-4.51</td>\n",
       "    </tr>\n",
       "    <tr>\n",
       "      <th>1</th>\n",
       "      <td>China - Shanghai Composite</td>\n",
       "      <td>000001.SS</td>\n",
       "      <td>0.50</td>\n",
       "    </tr>\n",
       "    <tr>\n",
       "      <th>2</th>\n",
       "      <td>Hong Kong - Hang Seng Index</td>\n",
       "      <td>^HSI</td>\n",
       "      <td>12.72</td>\n",
       "    </tr>\n",
       "    <tr>\n",
       "      <th>3</th>\n",
       "      <td>Australia - S&amp;P/ASX 200</td>\n",
       "      <td>^AXJO</td>\n",
       "      <td>-0.68</td>\n",
       "    </tr>\n",
       "    <tr>\n",
       "      <th>4</th>\n",
       "      <td>India - Nifty 50</td>\n",
       "      <td>^NSEI</td>\n",
       "      <td>2.49</td>\n",
       "    </tr>\n",
       "    <tr>\n",
       "      <th>5</th>\n",
       "      <td>Canada - S&amp;P/TSX Composite</td>\n",
       "      <td>^GSPTSE</td>\n",
       "      <td>-0.41</td>\n",
       "    </tr>\n",
       "    <tr>\n",
       "      <th>6</th>\n",
       "      <td>Germany - DAX</td>\n",
       "      <td>^GDAXI</td>\n",
       "      <td>12.35</td>\n",
       "    </tr>\n",
       "    <tr>\n",
       "      <th>7</th>\n",
       "      <td>UK - FTSE 100</td>\n",
       "      <td>^FTSE</td>\n",
       "      <td>2.87</td>\n",
       "    </tr>\n",
       "    <tr>\n",
       "      <th>8</th>\n",
       "      <td>Japan - Nikkei 225</td>\n",
       "      <td>^N225</td>\n",
       "      <td>-7.26</td>\n",
       "    </tr>\n",
       "    <tr>\n",
       "      <th>9</th>\n",
       "      <td>Mexico - IPC</td>\n",
       "      <td>^MXX</td>\n",
       "      <td>13.05</td>\n",
       "    </tr>\n",
       "    <tr>\n",
       "      <th>10</th>\n",
       "      <td>Brazil - Ibovespa</td>\n",
       "      <td>^BVSP</td>\n",
       "      <td>12.44</td>\n",
       "    </tr>\n",
       "  </tbody>\n",
       "</table>\n",
       "</div>"
      ],
      "text/plain": [
       "                          Index     Ticker  YTD Return (%)\n",
       "0       United States - S&P 500      ^GSPC           -4.51\n",
       "1    China - Shanghai Composite  000001.SS            0.50\n",
       "2   Hong Kong - Hang Seng Index       ^HSI           12.72\n",
       "3       Australia - S&P/ASX 200      ^AXJO           -0.68\n",
       "4              India - Nifty 50      ^NSEI            2.49\n",
       "5    Canada - S&P/TSX Composite    ^GSPTSE           -0.41\n",
       "6                 Germany - DAX     ^GDAXI           12.35\n",
       "7                 UK - FTSE 100      ^FTSE            2.87\n",
       "8            Japan - Nikkei 225      ^N225           -7.26\n",
       "9                  Mexico - IPC       ^MXX           13.05\n",
       "10            Brazil - Ibovespa      ^BVSP           12.44"
      ]
     },
     "execution_count": 163,
     "metadata": {},
     "output_type": "execute_result"
    }
   ],
   "source": [
    "import yfinance as yf\n",
    "import pandas as pd\n",
    "\n",
    "# Define index tickers and corresponding names\n",
    "indices = {\n",
    "    '^GSPC': 'United States - S&P 500',\n",
    "    '000001.SS': 'China - Shanghai Composite',\n",
    "    '^HSI': 'Hong Kong - Hang Seng Index',\n",
    "    '^AXJO': 'Australia - S&P/ASX 200',\n",
    "    '^NSEI': 'India - Nifty 50',\n",
    "    '^GSPTSE': 'Canada - S&P/TSX Composite',\n",
    "    '^GDAXI': 'Germany - DAX',\n",
    "    '^FTSE': 'UK - FTSE 100',\n",
    "    '^N225': 'Japan - Nikkei 225',\n",
    "    '^MXX': 'Mexico - IPC',\n",
    "    '^BVSP': 'Brazil - Ibovespa'\n",
    "}\n",
    "\n",
    "# Define date range\n",
    "start_date = '2025-01-01'\n",
    "end_date = '2025-05-02'\n",
    "\n",
    "# Function to calculate YTD return\n",
    "def calculate_ytd_return(ticker):\n",
    "    data = yf.download(ticker, start=start_date, end=end_date, progress=False)\n",
    "    if data.empty:\n",
    "        return None\n",
    "    # Access Close price with MultiIndex columns: ('Close', ticker)\n",
    "    start_price = data[('Close', ticker)].iloc[0]\n",
    "    end_price = data[('Close', ticker)].iloc[-1]\n",
    "    return ((end_price - start_price) / start_price) * 100\n",
    "\n",
    "# Create DataFrame to store results\n",
    "results = []\n",
    "\n",
    "for ticker, name in indices.items():\n",
    "    ytd_return = calculate_ytd_return(ticker)\n",
    "    results.append({\n",
    "        'Index': name,\n",
    "        'Ticker': ticker,\n",
    "        'YTD Return (%)': round(ytd_return, 2) if ytd_return is not None else None\n",
    "    })\n",
    "\n",
    "df = pd.DataFrame(results)\n",
    "\n",
    "df"
   ]
  },
  {
   "cell_type": "code",
   "execution_count": 164,
   "id": "004cd313-f002-4b51-a8e6-a84619b871df",
   "metadata": {},
   "outputs": [
    {
     "data": {
      "text/plain": [
       "-8.297930804200304"
      ]
     },
     "execution_count": 164,
     "metadata": {},
     "output_type": "execute_result"
    }
   ],
   "source": [
    "import yfinance as yf\n",
    "\n",
    "# Define ticker and date range\n",
    "ticker = '^GSPC'\n",
    "start_date = '2025-01-01'\n",
    "end_date = '2025-05-01'  # to include May 1\n",
    "\n",
    "def calculate_ytd_return2(ticker):\n",
    "    data = yf.download(ticker, start=start_date, end=end_date, progress=False)\n",
    "    if data.empty:\n",
    "        return None\n",
    "    # Access Close price with MultiIndex columns: ('Close', ticker)\n",
    "    start_price = data[('Close', ticker)].iloc[0]\n",
    "    end_price = data[('Close', ticker)].iloc[-1]\n",
    "    return ((end_price - start_price) / start_price) * 100\n",
    "calculate_ytd_return2(\"^N225\") "
   ]
  },
  {
   "cell_type": "code",
   "execution_count": 165,
   "id": "f1832f82-1378-4493-97c0-0ad131363231",
   "metadata": {},
   "outputs": [
    {
     "data": {
      "text/html": [
       "<div>\n",
       "<style scoped>\n",
       "    .dataframe tbody tr th:only-of-type {\n",
       "        vertical-align: middle;\n",
       "    }\n",
       "\n",
       "    .dataframe tbody tr th {\n",
       "        vertical-align: top;\n",
       "    }\n",
       "\n",
       "    .dataframe thead tr th {\n",
       "        text-align: left;\n",
       "    }\n",
       "\n",
       "    .dataframe thead tr:last-of-type th {\n",
       "        text-align: right;\n",
       "    }\n",
       "</style>\n",
       "<table border=\"1\" class=\"dataframe\">\n",
       "  <thead>\n",
       "    <tr>\n",
       "      <th>Price</th>\n",
       "      <th>Close</th>\n",
       "      <th>High</th>\n",
       "      <th>Low</th>\n",
       "      <th>Open</th>\n",
       "      <th>Volume</th>\n",
       "    </tr>\n",
       "    <tr>\n",
       "      <th>Ticker</th>\n",
       "      <th>^N225</th>\n",
       "      <th>^N225</th>\n",
       "      <th>^N225</th>\n",
       "      <th>^N225</th>\n",
       "      <th>^N225</th>\n",
       "    </tr>\n",
       "    <tr>\n",
       "      <th>Date</th>\n",
       "      <th></th>\n",
       "      <th></th>\n",
       "      <th></th>\n",
       "      <th></th>\n",
       "      <th></th>\n",
       "    </tr>\n",
       "  </thead>\n",
       "  <tbody>\n",
       "    <tr>\n",
       "      <th>2025-01-06</th>\n",
       "      <td>39307.050781</td>\n",
       "      <td>39993.500000</td>\n",
       "      <td>39232.781250</td>\n",
       "      <td>39945.421875</td>\n",
       "      <td>137900000</td>\n",
       "    </tr>\n",
       "    <tr>\n",
       "      <th>2025-01-07</th>\n",
       "      <td>40083.300781</td>\n",
       "      <td>40288.800781</td>\n",
       "      <td>39584.359375</td>\n",
       "      <td>39584.359375</td>\n",
       "      <td>127000000</td>\n",
       "    </tr>\n",
       "    <tr>\n",
       "      <th>2025-01-08</th>\n",
       "      <td>39981.058594</td>\n",
       "      <td>40105.718750</td>\n",
       "      <td>39705.808594</td>\n",
       "      <td>39879.359375</td>\n",
       "      <td>118800000</td>\n",
       "    </tr>\n",
       "    <tr>\n",
       "      <th>2025-01-09</th>\n",
       "      <td>39605.089844</td>\n",
       "      <td>39930.070312</td>\n",
       "      <td>39385.050781</td>\n",
       "      <td>39888.910156</td>\n",
       "      <td>117000000</td>\n",
       "    </tr>\n",
       "    <tr>\n",
       "      <th>2025-01-10</th>\n",
       "      <td>39190.398438</td>\n",
       "      <td>39591.460938</td>\n",
       "      <td>39166.050781</td>\n",
       "      <td>39550.250000</td>\n",
       "      <td>113200000</td>\n",
       "    </tr>\n",
       "    <tr>\n",
       "      <th>...</th>\n",
       "      <td>...</td>\n",
       "      <td>...</td>\n",
       "      <td>...</td>\n",
       "      <td>...</td>\n",
       "      <td>...</td>\n",
       "    </tr>\n",
       "    <tr>\n",
       "      <th>2025-04-23</th>\n",
       "      <td>34868.628906</td>\n",
       "      <td>35142.121094</td>\n",
       "      <td>34682.281250</td>\n",
       "      <td>34787.929688</td>\n",
       "      <td>133400000</td>\n",
       "    </tr>\n",
       "    <tr>\n",
       "      <th>2025-04-24</th>\n",
       "      <td>35039.148438</td>\n",
       "      <td>35287.949219</td>\n",
       "      <td>34960.648438</td>\n",
       "      <td>35194.710938</td>\n",
       "      <td>137100000</td>\n",
       "    </tr>\n",
       "    <tr>\n",
       "      <th>2025-04-25</th>\n",
       "      <td>35705.738281</td>\n",
       "      <td>35835.281250</td>\n",
       "      <td>35337.980469</td>\n",
       "      <td>35387.671875</td>\n",
       "      <td>134700000</td>\n",
       "    </tr>\n",
       "    <tr>\n",
       "      <th>2025-04-28</th>\n",
       "      <td>35839.988281</td>\n",
       "      <td>36075.261719</td>\n",
       "      <td>35773.488281</td>\n",
       "      <td>35962.800781</td>\n",
       "      <td>132400000</td>\n",
       "    </tr>\n",
       "    <tr>\n",
       "      <th>2025-04-30</th>\n",
       "      <td>36045.378906</td>\n",
       "      <td>36056.519531</td>\n",
       "      <td>35793.328125</td>\n",
       "      <td>35946.878906</td>\n",
       "      <td>167100000</td>\n",
       "    </tr>\n",
       "  </tbody>\n",
       "</table>\n",
       "<p>78 rows × 5 columns</p>\n",
       "</div>"
      ],
      "text/plain": [
       "Price              Close          High           Low          Open     Volume\n",
       "Ticker             ^N225         ^N225         ^N225         ^N225      ^N225\n",
       "Date                                                                         \n",
       "2025-01-06  39307.050781  39993.500000  39232.781250  39945.421875  137900000\n",
       "2025-01-07  40083.300781  40288.800781  39584.359375  39584.359375  127000000\n",
       "2025-01-08  39981.058594  40105.718750  39705.808594  39879.359375  118800000\n",
       "2025-01-09  39605.089844  39930.070312  39385.050781  39888.910156  117000000\n",
       "2025-01-10  39190.398438  39591.460938  39166.050781  39550.250000  113200000\n",
       "...                  ...           ...           ...           ...        ...\n",
       "2025-04-23  34868.628906  35142.121094  34682.281250  34787.929688  133400000\n",
       "2025-04-24  35039.148438  35287.949219  34960.648438  35194.710938  137100000\n",
       "2025-04-25  35705.738281  35835.281250  35337.980469  35387.671875  134700000\n",
       "2025-04-28  35839.988281  36075.261719  35773.488281  35962.800781  132400000\n",
       "2025-04-30  36045.378906  36056.519531  35793.328125  35946.878906  167100000\n",
       "\n",
       "[78 rows x 5 columns]"
      ]
     },
     "execution_count": 165,
     "metadata": {},
     "output_type": "execute_result"
    }
   ],
   "source": [
    "data = yf.download(\"^N225\", start=start_date, end=end_date, progress=False)\n",
    "data"
   ]
  },
  {
   "cell_type": "code",
   "execution_count": 166,
   "id": "2daee367-f46c-4177-9409-cbbae7de0146",
   "metadata": {},
   "outputs": [
    {
     "name": "stdout",
     "output_type": "stream",
     "text": [
      "                          Index     Ticker  YTD Return (%)\n",
      "9                  Mexico - IPC       ^MXX           13.05\n",
      "2   Hong Kong - Hang Seng Index       ^HSI           12.72\n",
      "10            Brazil - Ibovespa      ^BVSP           12.44\n",
      "6                 Germany - DAX     ^GDAXI           12.35\n",
      "7                 UK - FTSE 100      ^FTSE            2.87\n",
      "4              India - Nifty 50      ^NSEI            2.49\n",
      "1    China - Shanghai Composite  000001.SS            0.50\n",
      "5    Canada - S&P/TSX Composite    ^GSPTSE           -0.41\n",
      "3       Australia - S&P/ASX 200      ^AXJO           -0.68\n",
      "0       United States - S&P 500      ^GSPC           -4.51\n",
      "8            Japan - Nikkei 225      ^N225           -7.26\n"
     ]
    }
   ],
   "source": [
    "\n",
    "# Display results\n",
    "print(df.sort_values(by='YTD Return (%)', ascending=False))"
   ]
  },
  {
   "cell_type": "code",
   "execution_count": 167,
   "id": "778e1fec-26d0-4dd8-932f-5a116c5dfe04",
   "metadata": {},
   "outputs": [
    {
     "name": "stdout",
     "output_type": "stream",
     "text": [
      "\n",
      "Number of indices with better YTD returns than the S&P 500: 9\n"
     ]
    }
   ],
   "source": [
    "\n",
    "\n",
    "# Compare to S&P 500\n",
    "sp500_return = df[df['Ticker'] == '^GSPC']['YTD Return (%)'].values[0]\n",
    "better_than_sp500 = df[df['YTD Return (%)'] > sp500_return]\n",
    "count_better = len(better_than_sp500)\n",
    "\n",
    "print(f\"\\nNumber of indices with better YTD returns than the S&P 500: {count_better}\")"
   ]
  },
  {
   "cell_type": "code",
   "execution_count": 168,
   "id": "cd84380f-617f-44ad-bb10-e21c67316b76",
   "metadata": {},
   "outputs": [
    {
     "name": "stdout",
     "output_type": "stream",
     "text": [
      "Date\n",
      "2025-01-02    8260.099609\n",
      "2025-01-03    8224.000000\n",
      "2025-01-06    8249.700195\n",
      "2025-01-07    8245.299805\n",
      "2025-01-08    8251.000000\n",
      "Name: (Close, ^FTSE), dtype: float64\n"
     ]
    }
   ],
   "source": [
    "data = yf.download(\"^FTSE\", start=start_date, end=end_date, progress=False)\n",
    "data.columns\n",
    "# Access Close prices for ^HSI\n",
    "close_prices = data[('Close', '^FTSE')]\n",
    "print(close_prices.head())\n"
   ]
  },
  {
   "cell_type": "code",
   "execution_count": 169,
   "id": "bcfa71bc-5df1-4bb9-b633-33f37c4f5fff",
   "metadata": {},
   "outputs": [
    {
     "data": {
      "text/html": [
       "<div>\n",
       "<style scoped>\n",
       "    .dataframe tbody tr th:only-of-type {\n",
       "        vertical-align: middle;\n",
       "    }\n",
       "\n",
       "    .dataframe tbody tr th {\n",
       "        vertical-align: top;\n",
       "    }\n",
       "\n",
       "    .dataframe thead tr th {\n",
       "        text-align: left;\n",
       "    }\n",
       "\n",
       "    .dataframe thead tr:last-of-type th {\n",
       "        text-align: right;\n",
       "    }\n",
       "</style>\n",
       "<table border=\"1\" class=\"dataframe\">\n",
       "  <thead>\n",
       "    <tr>\n",
       "      <th>Price</th>\n",
       "      <th>Close</th>\n",
       "      <th>High</th>\n",
       "      <th>Low</th>\n",
       "      <th>Open</th>\n",
       "      <th>Volume</th>\n",
       "    </tr>\n",
       "    <tr>\n",
       "      <th>Ticker</th>\n",
       "      <th>^FTSE</th>\n",
       "      <th>^FTSE</th>\n",
       "      <th>^FTSE</th>\n",
       "      <th>^FTSE</th>\n",
       "      <th>^FTSE</th>\n",
       "    </tr>\n",
       "    <tr>\n",
       "      <th>Date</th>\n",
       "      <th></th>\n",
       "      <th></th>\n",
       "      <th></th>\n",
       "      <th></th>\n",
       "      <th></th>\n",
       "    </tr>\n",
       "  </thead>\n",
       "  <tbody>\n",
       "    <tr>\n",
       "      <th>2025-01-02</th>\n",
       "      <td>8260.099609</td>\n",
       "      <td>8270.599609</td>\n",
       "      <td>8160.600098</td>\n",
       "      <td>8173.000000</td>\n",
       "      <td>422219900</td>\n",
       "    </tr>\n",
       "    <tr>\n",
       "      <th>2025-01-03</th>\n",
       "      <td>8224.000000</td>\n",
       "      <td>8269.000000</td>\n",
       "      <td>8219.700195</td>\n",
       "      <td>8260.099609</td>\n",
       "      <td>742503900</td>\n",
       "    </tr>\n",
       "    <tr>\n",
       "      <th>2025-01-06</th>\n",
       "      <td>8249.700195</td>\n",
       "      <td>8249.700195</td>\n",
       "      <td>8197.500000</td>\n",
       "      <td>8224.000000</td>\n",
       "      <td>766244700</td>\n",
       "    </tr>\n",
       "    <tr>\n",
       "      <th>2025-01-07</th>\n",
       "      <td>8245.299805</td>\n",
       "      <td>8251.799805</td>\n",
       "      <td>8190.500000</td>\n",
       "      <td>8249.700195</td>\n",
       "      <td>741506800</td>\n",
       "    </tr>\n",
       "    <tr>\n",
       "      <th>2025-01-08</th>\n",
       "      <td>8251.000000</td>\n",
       "      <td>8267.400391</td>\n",
       "      <td>8189.500000</td>\n",
       "      <td>8245.299805</td>\n",
       "      <td>899645300</td>\n",
       "    </tr>\n",
       "    <tr>\n",
       "      <th>...</th>\n",
       "      <td>...</td>\n",
       "      <td>...</td>\n",
       "      <td>...</td>\n",
       "      <td>...</td>\n",
       "      <td>...</td>\n",
       "    </tr>\n",
       "    <tr>\n",
       "      <th>2025-04-24</th>\n",
       "      <td>8407.400391</td>\n",
       "      <td>8415.099609</td>\n",
       "      <td>8361.799805</td>\n",
       "      <td>8403.200195</td>\n",
       "      <td>1126605500</td>\n",
       "    </tr>\n",
       "    <tr>\n",
       "      <th>2025-04-25</th>\n",
       "      <td>8415.299805</td>\n",
       "      <td>8442.700195</td>\n",
       "      <td>8397.099609</td>\n",
       "      <td>8407.400391</td>\n",
       "      <td>802734000</td>\n",
       "    </tr>\n",
       "    <tr>\n",
       "      <th>2025-04-28</th>\n",
       "      <td>8417.299805</td>\n",
       "      <td>8452.599609</td>\n",
       "      <td>8415.200195</td>\n",
       "      <td>8415.299805</td>\n",
       "      <td>738741700</td>\n",
       "    </tr>\n",
       "    <tr>\n",
       "      <th>2025-04-29</th>\n",
       "      <td>8463.500000</td>\n",
       "      <td>8470.400391</td>\n",
       "      <td>8404.099609</td>\n",
       "      <td>8417.299805</td>\n",
       "      <td>655924800</td>\n",
       "    </tr>\n",
       "    <tr>\n",
       "      <th>2025-04-30</th>\n",
       "      <td>8494.900391</td>\n",
       "      <td>8494.900391</td>\n",
       "      <td>8430.500000</td>\n",
       "      <td>8463.500000</td>\n",
       "      <td>1589592400</td>\n",
       "    </tr>\n",
       "  </tbody>\n",
       "</table>\n",
       "<p>83 rows × 5 columns</p>\n",
       "</div>"
      ],
      "text/plain": [
       "Price             Close         High          Low         Open      Volume\n",
       "Ticker            ^FTSE        ^FTSE        ^FTSE        ^FTSE       ^FTSE\n",
       "Date                                                                      \n",
       "2025-01-02  8260.099609  8270.599609  8160.600098  8173.000000   422219900\n",
       "2025-01-03  8224.000000  8269.000000  8219.700195  8260.099609   742503900\n",
       "2025-01-06  8249.700195  8249.700195  8197.500000  8224.000000   766244700\n",
       "2025-01-07  8245.299805  8251.799805  8190.500000  8249.700195   741506800\n",
       "2025-01-08  8251.000000  8267.400391  8189.500000  8245.299805   899645300\n",
       "...                 ...          ...          ...          ...         ...\n",
       "2025-04-24  8407.400391  8415.099609  8361.799805  8403.200195  1126605500\n",
       "2025-04-25  8415.299805  8442.700195  8397.099609  8407.400391   802734000\n",
       "2025-04-28  8417.299805  8452.599609  8415.200195  8415.299805   738741700\n",
       "2025-04-29  8463.500000  8470.400391  8404.099609  8417.299805   655924800\n",
       "2025-04-30  8494.900391  8494.900391  8430.500000  8463.500000  1589592400\n",
       "\n",
       "[83 rows x 5 columns]"
      ]
     },
     "execution_count": 169,
     "metadata": {},
     "output_type": "execute_result"
    }
   ],
   "source": [
    "data"
   ]
  },
  {
   "cell_type": "code",
   "execution_count": null,
   "id": "bfbb8290-60d7-4e2a-9127-4a9e63849aa7",
   "metadata": {},
   "outputs": [],
   "source": []
  },
  {
   "cell_type": "markdown",
   "id": "5f7f4eeb-7079-477d-aa58-4876bd5139b5",
   "metadata": {},
   "source": [
    "# Question 3. Median duration (in days) of significant market corrections in the S&P 500 index (3 points)"
   ]
  },
  {
   "cell_type": "markdown",
   "id": "f25bc2e0-bab5-4d2e-b3d0-42f6bc06797d",
   "metadata": {},
   "source": [
    "### 1 Download S&P 500 historical data (1950-present) using yfinance\n"
   ]
  },
  {
   "cell_type": "code",
   "execution_count": 170,
   "id": "426a06a4-57be-4902-83fb-0b2bea230595",
   "metadata": {},
   "outputs": [],
   "source": [
    "import yfinance as yf\n",
    "import pandas as pd\n",
    "import numpy as np\n",
    "import matplotlib.pyplot as plt\n",
    "\n",
    "import yfinance as yf\n",
    "import pandas as pd\n",
    "\n",
    "# Download data\n",
    "sp500 = yf.download('^GSPC', start='1950-01-01', end='2025-05-01', progress=False)\n"
   ]
  },
  {
   "cell_type": "markdown",
   "id": "a28abc93-4f5a-411b-af0b-11d35088ed42",
   "metadata": {},
   "source": [
    "### 2- Identify all-time high points (where price exceeds all previous prices)\n"
   ]
  },
  {
   "cell_type": "code",
   "execution_count": 171,
   "id": "4c90b5c9-339f-41ce-81ee-e85e2cb7db24",
   "metadata": {},
   "outputs": [
    {
     "data": {
      "text/plain": [
       "DatetimeIndex(['1950-01-03', '1950-01-04', '1950-01-05', '1950-01-06',\n",
       "               '1950-01-09', '1950-01-11', '1950-02-02', '1950-02-03',\n",
       "               '1950-02-06', '1950-03-06',\n",
       "               ...\n",
       "               '2024-11-11', '2024-11-26', '2024-11-29', '2024-12-02',\n",
       "               '2024-12-03', '2024-12-04', '2024-12-06', '2025-01-23',\n",
       "               '2025-02-18', '2025-02-19'],\n",
       "              dtype='datetime64[ns]', name='Date', length=1474, freq=None)"
      ]
     },
     "execution_count": 171,
     "metadata": {},
     "output_type": "execute_result"
    }
   ],
   "source": [
    "\n",
    "\n",
    "# Flatten MultiIndex columns if needed\n",
    "if isinstance(sp500.columns, pd.MultiIndex):\n",
    "    sp500.columns = sp500.columns.get_level_values(0)\n",
    "\n",
    "# Compute rolling all-time high\n",
    "sp500['Rolling_Max'] = sp500['Close'].cummax()\n",
    "\n",
    "# Identify new all-time highs\n",
    "all_time_highs = sp500[sp500['Close'] == sp500['Rolling_Max']].index\n",
    "\n",
    "\n",
    "# Identify new all-time highs\n",
    "all_time_highs "
   ]
  },
  {
   "cell_type": "markdown",
   "id": "b5523528-2daf-4ce0-bb9f-1e6bbd09d9b5",
   "metadata": {},
   "source": [
    "### 3 For each pair of consecutive all-time highs, find the minimum price in between\n",
    "### 4 Calculate drawdown percentages: (high - low) / high × 100\n",
    "### 5 Filter for corrections with at least 5% drawdown\n",
    "### 6 Calculate the duration in days for each correction period\n"
   ]
  },
  {
   "cell_type": "code",
   "execution_count": 172,
   "id": "f04ee5e6-ac14-47b0-957d-25610f7b2812",
   "metadata": {},
   "outputs": [
    {
     "name": "stdout",
     "output_type": "stream",
     "text": [
      "         start         end  drawdown (%)  days\n",
      "56  2007-10-09  2013-03-28         56.78  1997\n",
      "54  2000-03-24  2007-05-30         49.15  2623\n",
      "24  1973-01-11  1980-07-17         48.20  2744\n",
      "22  1968-11-29  1972-03-06         36.06  1193\n",
      "65  2020-02-19  2020-08-18         33.92   181\n",
      "35  1987-08-25  1989-07-26         33.51   701\n",
      "15  1961-12-12  1963-09-03         27.97   630\n",
      "27  1980-11-28  1982-11-03         27.11   705\n",
      "68  2022-01-03  2024-01-19         25.43   746\n",
      "18  1966-02-09  1967-05-04         22.18   449\n"
     ]
    },
    {
     "data": {
      "text/plain": [
       "2"
      ]
     },
     "execution_count": 172,
     "metadata": {},
     "output_type": "execute_result"
    }
   ],
   "source": [
    "corrections = []\n",
    "\n",
    "for i in range(1, len(all_time_highs)):\n",
    "    start_date = all_time_highs[i - 1]\n",
    "    end_date = all_time_highs[i]\n",
    "    \n",
    "    # Extract the data in the correction period\n",
    "    period_data = sp500.loc[start_date:end_date]\n",
    "    \n",
    "    peak = sp500.loc[start_date, 'Close']\n",
    "    trough = period_data['Close'].min()\n",
    "    drawdown = (peak - trough) / peak * 100\n",
    "    \n",
    "    if drawdown >= 5:\n",
    "        correction_duration = (end_date - start_date).days\n",
    "        corrections.append({\n",
    "            'start': start_date.date(),\n",
    "            'end': end_date.date(),\n",
    "            'drawdown (%)': round(drawdown, 2),\n",
    "            'days': correction_duration\n",
    "        })\n",
    "\n",
    "# Convert to DataFrame\n",
    "df_corrections = pd.DataFrame(corrections)\n",
    "\n",
    "# Display\n",
    "print(df_corrections.sort_values(by='drawdown (%)', ascending=False).head(10))\n",
    "\"\"\"\n",
    "       start        end  drawdown (%)  days\n",
    "0 2007-10-09 2009-03-09          56.8   517\n",
    "1 2000-03-24 2002-10-09          49.1   929\n",
    "2 1973-01-11 1974-10-03          48.2   630\n",
    "3 1968-11-29 1970-05-26          36.1   543\n",
    "4 2020-02-19 2020-03-23          33.9    33\n",
    "5 1987-08-25 1987-12-04          33.5   101\n",
    "6 1961-12-12 1962-06-26          28.0   196\n",
    "7 1980-11-28 1982-08-12          27.1   622\n",
    "8 2022-01-03 2022-10-12          25.4   282\n",
    "9 1966-02-09 1966-10-07          22.2   240\n",
    "\"\"\"\n",
    "1+1"
   ]
  },
  {
   "cell_type": "code",
   "execution_count": 173,
   "id": "406251b2-0788-4ace-a730-c32e139ddd2d",
   "metadata": {},
   "outputs": [
    {
     "name": "stdout",
     "output_type": "stream",
     "text": [
      "       start        end  drawdown (%)  days\n",
      "0 2007-10-09 2009-03-09          56.8   517\n",
      "1 2000-03-24 2002-10-09          49.1   929\n",
      "2 1973-01-11 1974-10-03          48.2   630\n",
      "3 1968-11-29 1970-05-26          36.1   543\n",
      "4 2020-02-19 2020-03-23          33.9    33\n",
      "5 1987-08-25 1987-12-04          33.5   101\n",
      "6 1961-12-12 1962-06-26          28.0   196\n",
      "7 1980-11-28 1982-08-12          27.1   622\n",
      "8 2022-01-03 2022-10-12          25.4   282\n",
      "9 1966-02-09 1966-10-07          22.2   240\n"
     ]
    }
   ],
   "source": [
    "import pandas as pd\n",
    "\n",
    "# Raw data of top 10 S&P 500 corrections\n",
    "correction_data = [\n",
    "    {\"start\": \"2007-10-09\", \"end\": \"2009-03-09\", \"drawdown (%)\": 56.8, \"days\": 517},\n",
    "    {\"start\": \"2000-03-24\", \"end\": \"2002-10-09\", \"drawdown (%)\": 49.1, \"days\": 929},\n",
    "    {\"start\": \"1973-01-11\", \"end\": \"1974-10-03\", \"drawdown (%)\": 48.2, \"days\": 630},\n",
    "    {\"start\": \"1968-11-29\", \"end\": \"1970-05-26\", \"drawdown (%)\": 36.1, \"days\": 543},\n",
    "    {\"start\": \"2020-02-19\", \"end\": \"2020-03-23\", \"drawdown (%)\": 33.9, \"days\": 33},\n",
    "    {\"start\": \"1987-08-25\", \"end\": \"1987-12-04\", \"drawdown (%)\": 33.5, \"days\": 101},\n",
    "    {\"start\": \"1961-12-12\", \"end\": \"1962-06-26\", \"drawdown (%)\": 28.0, \"days\": 196},\n",
    "    {\"start\": \"1980-11-28\", \"end\": \"1982-08-12\", \"drawdown (%)\": 27.1, \"days\": 622},\n",
    "    {\"start\": \"2022-01-03\", \"end\": \"2022-10-12\", \"drawdown (%)\": 25.4, \"days\": 282},\n",
    "    {\"start\": \"1966-02-09\", \"end\": \"1966-10-07\", \"drawdown (%)\": 22.2, \"days\": 240},\n",
    "]\n",
    "\n",
    "# Create DataFrame\n",
    "df_top_corrections = pd.DataFrame(correction_data)\n",
    "\n",
    "# Convert start and end to datetime\n",
    "df_top_corrections['start'] = pd.to_datetime(df_top_corrections['start'])\n",
    "df_top_corrections['end'] = pd.to_datetime(df_top_corrections['end'])\n",
    "\n",
    "# Display\n",
    "print(df_top_corrections)\n"
   ]
  },
  {
   "cell_type": "markdown",
   "id": "e0101fc2-4d61-4f19-81f4-f65e7581682c",
   "metadata": {},
   "source": [
    "### Determine the 25th, 50th (median), and 75th percentiles for correction durations"
   ]
  },
  {
   "cell_type": "code",
   "execution_count": 174,
   "id": "dab56c79-9bd8-47c0-a0e7-60d7ec032a9b",
   "metadata": {},
   "outputs": [
    {
     "name": "stdout",
     "output_type": "stream",
     "text": [
      "25th percentile: 6.235 days\n",
      "50th percentile (Median): 7.86 days\n",
      "75th percentile: 14.02 days\n"
     ]
    }
   ],
   "source": [
    "# Convert corrections list to a pandas Series\n",
    "corrections_series = pd.Series(df_corrections[\"drawdown (%)\"])\n",
    "\n",
    "# Calculate percentiles\n",
    "percentiles = corrections_series.quantile([0.25, 0.5, 0.75])\n",
    "\n",
    "# Print results\n",
    "print(f\"25th percentile: {percentiles[0.25]} days\")\n",
    "print(f\"50th percentile (Median): {percentiles[0.5]} days\")\n",
    "print(f\"75th percentile: {percentiles[0.75]} days\")\n"
   ]
  },
  {
   "cell_type": "code",
   "execution_count": 175,
   "id": "aa21b55f-6318-4742-848c-42658c69a9dd",
   "metadata": {},
   "outputs": [
    {
     "data": {
      "text/plain": [
       "7.86"
      ]
     },
     "execution_count": 175,
     "metadata": {},
     "output_type": "execute_result"
    }
   ],
   "source": [
    "corrections_series.median()"
   ]
  },
  {
   "cell_type": "code",
   "execution_count": 176,
   "id": "1165b520-efed-4093-bce8-371b3b5c30de",
   "metadata": {},
   "outputs": [
    {
     "data": {
      "image/png": "[encoded data removed]",
      "text/plain": [
       "<Figure size 1000x600 with 1 Axes>"
      ]
     },
     "metadata": {},
     "output_type": "display_data"
    }
   ],
   "source": [
    "# Plot histogram\n",
    "plt.figure(figsize=(10, 6))\n",
    "plt.hist(corrections_series, bins=30, edgecolor='black')\n",
    "plt.title('Distribution of S&P 500 Correction Durations')\n",
    "plt.xlabel('Duration (days)')\n",
    "plt.ylabel('Frequency')\n",
    "plt.grid(True)\n",
    "plt.show()\n"
   ]
  },
  {
   "cell_type": "raw",
   "id": "4bb76141-a2e2-49e5-a15c-1e808f291d32",
   "metadata": {},
   "source": [
    "# Question 4. [Stocks] Earnings Surprise Analysis for Amazon (AMZN)\n",
    "1-Load earnings data from CSV (ha1_Amazon.csv) containing earnings dates, EPS estimates, and actual EPS. Make sure you are using the correct delimiter to read the data, such as in this command python pandas.read_csv(\"ha1_Amazon.csv\", delimiter=';') \n",
    "2--Download complete historical price data using yfinance\n",
    "3--Calculate 2-day percentage changes for all historical dates: for each sequence of 3 consecutive trading days (Day 1, Day 2, Day 3), compute the return as Close_Day3 / Close_Day1 - 1. (Assume Day 2 may correspond to the earnings announcement.)\n",
    "4--Identify positive earnings surprises (where \"actual EPS > estimated EPS\" OR \"Surprise (%)>0\")\n",
    "5---Calculate 2-day percentage changes following positive earnings surprises. Show your answer in % (closest number to the 2nd digit): return * 100.0\n",
    "6---(Optional) Compare the median 2-day percentage change for positive surprises vs. all historical dates. Do you see the difference?"
   ]
  },
  {
   "cell_type": "code",
   "execution_count": 177,
   "id": "8313823c-2c1e-4532-ad7a-47669b329fae",
   "metadata": {},
   "outputs": [
    {
     "name": "stdout",
     "output_type": "stream",
     "text": [
      "(117, 6)\n",
      "(116, 6)\n"
     ]
    },
    {
     "data": {
      "text/html": [
       "<div>\n",
       "<style scoped>\n",
       "    .dataframe tbody tr th:only-of-type {\n",
       "        vertical-align: middle;\n",
       "    }\n",
       "\n",
       "    .dataframe tbody tr th {\n",
       "        vertical-align: top;\n",
       "    }\n",
       "\n",
       "    .dataframe thead th {\n",
       "        text-align: right;\n",
       "    }\n",
       "</style>\n",
       "<table border=\"1\" class=\"dataframe\">\n",
       "  <thead>\n",
       "    <tr style=\"text-align: right;\">\n",
       "      <th></th>\n",
       "      <th>Symbol</th>\n",
       "      <th>Company</th>\n",
       "      <th>Earnings Date</th>\n",
       "      <th>EPS Estimate</th>\n",
       "      <th>Reported EPS</th>\n",
       "      <th>Surprise (%)</th>\n",
       "    </tr>\n",
       "  </thead>\n",
       "  <tbody>\n",
       "    <tr>\n",
       "      <th>0</th>\n",
       "      <td>AMZN</td>\n",
       "      <td>Amazon.com Inc</td>\n",
       "      <td>April 29, 2026 at 6 AM EDT</td>\n",
       "      <td>-</td>\n",
       "      <td>-</td>\n",
       "      <td>-</td>\n",
       "    </tr>\n",
       "    <tr>\n",
       "      <th>1</th>\n",
       "      <td>AMZN</td>\n",
       "      <td>Amazon.com Inc</td>\n",
       "      <td>February 4, 2026 at 4 PM EST</td>\n",
       "      <td>-</td>\n",
       "      <td>-</td>\n",
       "      <td>-</td>\n",
       "    </tr>\n",
       "    <tr>\n",
       "      <th>2</th>\n",
       "      <td>AMZN</td>\n",
       "      <td>Amazon.com Inc</td>\n",
       "      <td>October 29, 2025 at 6 AM EDT</td>\n",
       "      <td>-</td>\n",
       "      <td>-</td>\n",
       "      <td>-</td>\n",
       "    </tr>\n",
       "    <tr>\n",
       "      <th>3</th>\n",
       "      <td>AMZN</td>\n",
       "      <td>Amazon.com Inc</td>\n",
       "      <td>July 30, 2025 at 4 PM EDT</td>\n",
       "      <td>-</td>\n",
       "      <td>-</td>\n",
       "      <td>-</td>\n",
       "    </tr>\n",
       "    <tr>\n",
       "      <th>4</th>\n",
       "      <td>AMZN</td>\n",
       "      <td>Amazon.com, Inc.</td>\n",
       "      <td>May 1, 2025 at 4 PM EDT</td>\n",
       "      <td>???.36</td>\n",
       "      <td>???.59</td>\n",
       "      <td>+16.74</td>\n",
       "    </tr>\n",
       "  </tbody>\n",
       "</table>\n",
       "</div>"
      ],
      "text/plain": [
       "  Symbol           Company                 Earnings Date EPS Estimate  \\\n",
       "0   AMZN    Amazon.com Inc    April 29, 2026 at 6 AM EDT            -   \n",
       "1   AMZN    Amazon.com Inc  February 4, 2026 at 4 PM EST            -   \n",
       "2   AMZN    Amazon.com Inc  October 29, 2025 at 6 AM EDT            -   \n",
       "3   AMZN    Amazon.com Inc     July 30, 2025 at 4 PM EDT            -   \n",
       "4   AMZN  Amazon.com, Inc.       May 1, 2025 at 4 PM EDT       ???.36   \n",
       "\n",
       "  Reported EPS Surprise (%)  \n",
       "0            -            -  \n",
       "1            -            -  \n",
       "2            -            -  \n",
       "3            -            -  \n",
       "4       ???.59       +16.74  "
      ]
     },
     "execution_count": 177,
     "metadata": {},
     "output_type": "execute_result"
    }
   ],
   "source": [
    "import pandas as pd\n",
    "import yfinance as yf\n",
    "import numpy as np\n",
    "\n",
    "# Step 1: Load earnings data\n",
    "earnings_data = pd.read_csv(\"ha1_Amazon.csv\", delimiter=';')\n",
    "print(earnings_data.shape)\n",
    "\n",
    "earnings_data = earnings_data.dropna()\n",
    "print(earnings_data.shape)\n",
    "earnings_data.head()"
   ]
  },
  {
   "cell_type": "code",
   "execution_count": 178,
   "id": "a413b350-e04a-446e-8f01-287683436dac",
   "metadata": {},
   "outputs": [
    {
     "data": {
      "text/plain": [
       "(84, 6)"
      ]
     },
     "execution_count": 178,
     "metadata": {},
     "output_type": "execute_result"
    }
   ],
   "source": [
    "import pandas as pd\n",
    "def is_number(s):\n",
    "    try:\n",
    "        float(s)\n",
    "        return True\n",
    "    except:\n",
    "        return False\n",
    "\n",
    "# Keep only rows where 'col' is a number (int or float)\n",
    "earnings_data = earnings_data[earnings_data['EPS Estimate'].apply(is_number)]\n",
    "earnings_data= earnings_data[earnings_data['Reported EPS'].apply(is_number)]\n",
    "\n",
    "\n",
    "earnings_data.shape\n"
   ]
  },
  {
   "cell_type": "code",
   "execution_count": 179,
   "id": "f0a883f7-dc5f-480f-8f84-b4c4e5b92594",
   "metadata": {},
   "outputs": [
    {
     "data": {
      "text/plain": [
       "Index(['Symbol', 'Company', 'Earnings Date', 'EPS Estimate', 'Reported EPS',\n",
       "       'Surprise (%)'],\n",
       "      dtype='object')"
      ]
     },
     "execution_count": 179,
     "metadata": {},
     "output_type": "execute_result"
    }
   ],
   "source": [
    "earnings_data.columns"
   ]
  },
  {
   "cell_type": "code",
   "execution_count": 180,
   "id": "2b77e74d-bc53-4a27-a697-f9ea33995da9",
   "metadata": {},
   "outputs": [],
   "source": [
    "earnings_data['Earnings Date']=earnings_data['Earnings Date'].str[:-4]"
   ]
  },
  {
   "cell_type": "code",
   "execution_count": 181,
   "id": "00b33b89-b0ee-4f6c-8b0e-dd348028ce2a",
   "metadata": {},
   "outputs": [
    {
     "name": "stderr",
     "output_type": "stream",
     "text": [
      "[*********************100%***********************]  1 of 1 completed\n"
     ]
    },
    {
     "data": {
      "text/plain": [
       "MultiIndex([( 'Close', 'AMZN'),\n",
       "            (  'High', 'AMZN'),\n",
       "            (   'Low', 'AMZN'),\n",
       "            (  'Open', 'AMZN'),\n",
       "            ('Volume', 'AMZN')],\n",
       "           names=['Price', 'Ticker'])"
      ]
     },
     "execution_count": 181,
     "metadata": {},
     "output_type": "execute_result"
    }
   ],
   "source": [
    "\n",
    "earnings_data['Date'] = pd.to_datetime(earnings_data['Earnings Date'], format='mixed')\n",
    "\n",
    "# Step 2: Download historical stock price data\n",
    "stock_data = yf.download('AMZN', start=earnings_data['Date'].min() - pd.Timedelta(days=10), end=pd.Timestamp.today())\n",
    "stock_data = stock_data.dropna()\n",
    "stock_data = stock_data[stock_data[( 'Close', 'AMZN')] != 0]\n",
    "stock_data.columns"
   ]
  },
  {
   "cell_type": "code",
   "execution_count": 182,
   "id": "e0f8a337-0c67-4742-b6f8-47a5417b62d2",
   "metadata": {},
   "outputs": [
    {
     "data": {
      "text/plain": [
       "Date\n",
       "1999-04-19      3.973438\n",
       "1999-04-20      4.300000\n",
       "1999-04-21      4.481250\n",
       "1999-04-22      4.751563\n",
       "1999-04-23      5.253125\n",
       "                 ...    \n",
       "2025-05-23    200.990005\n",
       "2025-05-27    206.020004\n",
       "2025-05-28    204.720001\n",
       "2025-05-29    205.699997\n",
       "2025-05-30    205.009995\n",
       "Name: (Close, AMZN), Length: 6571, dtype: float64"
      ]
     },
     "execution_count": 182,
     "metadata": {},
     "output_type": "execute_result"
    }
   ],
   "source": [
    "\n",
    "stock_data = stock_data[( 'Close', 'AMZN')]\n",
    "stock_data"
   ]
  },
  {
   "cell_type": "code",
   "execution_count": 183,
   "id": "26b91624-6e79-4a78-8c1b-f8de709e3483",
   "metadata": {},
   "outputs": [],
   "source": [
    "# Step 3: Compute 2-day returns (Day3 / Day1 - 1)\n",
    "import pandas as pd\n",
    "\n",
    "df = pd.DataFrame()\n",
    "df['Day1'] = stock_data.shift(0)\n",
    "df['Day2'] = stock_data.shift(-1)\n",
    "df['Day3'] = stock_data.shift(-2)\n",
    "df['2d_return'] = df['Day3'] / df['Day1'] - 1\n"
   ]
  },
  {
   "cell_type": "code",
   "execution_count": 184,
   "id": "8b2f32ab-e1e4-47bf-864e-03f8efda75da",
   "metadata": {},
   "outputs": [
    {
     "data": {
      "text/html": [
       "<div>\n",
       "<style scoped>\n",
       "    .dataframe tbody tr th:only-of-type {\n",
       "        vertical-align: middle;\n",
       "    }\n",
       "\n",
       "    .dataframe tbody tr th {\n",
       "        vertical-align: top;\n",
       "    }\n",
       "\n",
       "    .dataframe thead th {\n",
       "        text-align: right;\n",
       "    }\n",
       "</style>\n",
       "<table border=\"1\" class=\"dataframe\">\n",
       "  <thead>\n",
       "    <tr style=\"text-align: right;\">\n",
       "      <th></th>\n",
       "      <th>Day1</th>\n",
       "      <th>Day2</th>\n",
       "      <th>Day3</th>\n",
       "      <th>2d_return</th>\n",
       "    </tr>\n",
       "    <tr>\n",
       "      <th>Date</th>\n",
       "      <th></th>\n",
       "      <th></th>\n",
       "      <th></th>\n",
       "      <th></th>\n",
       "    </tr>\n",
       "  </thead>\n",
       "  <tbody>\n",
       "    <tr>\n",
       "      <th>1999-04-19</th>\n",
       "      <td>3.973438</td>\n",
       "      <td>4.300000</td>\n",
       "      <td>4.481250</td>\n",
       "      <td>0.127802</td>\n",
       "    </tr>\n",
       "    <tr>\n",
       "      <th>1999-04-20</th>\n",
       "      <td>4.300000</td>\n",
       "      <td>4.481250</td>\n",
       "      <td>4.751563</td>\n",
       "      <td>0.105015</td>\n",
       "    </tr>\n",
       "    <tr>\n",
       "      <th>1999-04-21</th>\n",
       "      <td>4.481250</td>\n",
       "      <td>4.751563</td>\n",
       "      <td>5.253125</td>\n",
       "      <td>0.172246</td>\n",
       "    </tr>\n",
       "    <tr>\n",
       "      <th>1999-04-22</th>\n",
       "      <td>4.751563</td>\n",
       "      <td>5.253125</td>\n",
       "      <td>5.179688</td>\n",
       "      <td>0.090102</td>\n",
       "    </tr>\n",
       "    <tr>\n",
       "      <th>1999-04-23</th>\n",
       "      <td>5.253125</td>\n",
       "      <td>5.179688</td>\n",
       "      <td>5.146875</td>\n",
       "      <td>-0.020226</td>\n",
       "    </tr>\n",
       "    <tr>\n",
       "      <th>...</th>\n",
       "      <td>...</td>\n",
       "      <td>...</td>\n",
       "      <td>...</td>\n",
       "      <td>...</td>\n",
       "    </tr>\n",
       "    <tr>\n",
       "      <th>2025-05-23</th>\n",
       "      <td>200.990005</td>\n",
       "      <td>206.020004</td>\n",
       "      <td>204.720001</td>\n",
       "      <td>0.018558</td>\n",
       "    </tr>\n",
       "    <tr>\n",
       "      <th>2025-05-27</th>\n",
       "      <td>206.020004</td>\n",
       "      <td>204.720001</td>\n",
       "      <td>205.699997</td>\n",
       "      <td>-0.001553</td>\n",
       "    </tr>\n",
       "    <tr>\n",
       "      <th>2025-05-28</th>\n",
       "      <td>204.720001</td>\n",
       "      <td>205.699997</td>\n",
       "      <td>205.009995</td>\n",
       "      <td>0.001417</td>\n",
       "    </tr>\n",
       "    <tr>\n",
       "      <th>2025-05-29</th>\n",
       "      <td>205.699997</td>\n",
       "      <td>205.009995</td>\n",
       "      <td>NaN</td>\n",
       "      <td>NaN</td>\n",
       "    </tr>\n",
       "    <tr>\n",
       "      <th>2025-05-30</th>\n",
       "      <td>205.009995</td>\n",
       "      <td>NaN</td>\n",
       "      <td>NaN</td>\n",
       "      <td>NaN</td>\n",
       "    </tr>\n",
       "  </tbody>\n",
       "</table>\n",
       "<p>6571 rows × 4 columns</p>\n",
       "</div>"
      ],
      "text/plain": [
       "                  Day1        Day2        Day3  2d_return\n",
       "Date                                                     \n",
       "1999-04-19    3.973438    4.300000    4.481250   0.127802\n",
       "1999-04-20    4.300000    4.481250    4.751563   0.105015\n",
       "1999-04-21    4.481250    4.751563    5.253125   0.172246\n",
       "1999-04-22    4.751563    5.253125    5.179688   0.090102\n",
       "1999-04-23    5.253125    5.179688    5.146875  -0.020226\n",
       "...                ...         ...         ...        ...\n",
       "2025-05-23  200.990005  206.020004  204.720001   0.018558\n",
       "2025-05-27  206.020004  204.720001  205.699997  -0.001553\n",
       "2025-05-28  204.720001  205.699997  205.009995   0.001417\n",
       "2025-05-29  205.699997  205.009995         NaN        NaN\n",
       "2025-05-30  205.009995         NaN         NaN        NaN\n",
       "\n",
       "[6571 rows x 4 columns]"
      ]
     },
     "execution_count": 184,
     "metadata": {},
     "output_type": "execute_result"
    }
   ],
   "source": [
    "df"
   ]
  },
  {
   "cell_type": "code",
   "execution_count": 185,
   "id": "54de798d-6aa2-41b3-a17c-55af3d019c17",
   "metadata": {},
   "outputs": [],
   "source": [
    "earnings_data['Reported EPS'] = pd.to_numeric(earnings_data['Reported EPS'], errors='coerce')\n",
    "earnings_data['EPS Estimate'] = pd.to_numeric(earnings_data['EPS Estimate'], errors='coerce')\n",
    "earnings_data['Surprise (%)'] = pd.to_numeric(earnings_data['Surprise (%)'], errors='coerce')"
   ]
  },
  {
   "cell_type": "code",
   "execution_count": 186,
   "id": "de65d519-e1b2-4597-bcef-4272b5ff2935",
   "metadata": {},
   "outputs": [
    {
     "data": {
      "text/html": [
       "<div>\n",
       "<style scoped>\n",
       "    .dataframe tbody tr th:only-of-type {\n",
       "        vertical-align: middle;\n",
       "    }\n",
       "\n",
       "    .dataframe tbody tr th {\n",
       "        vertical-align: top;\n",
       "    }\n",
       "\n",
       "    .dataframe thead th {\n",
       "        text-align: right;\n",
       "    }\n",
       "</style>\n",
       "<table border=\"1\" class=\"dataframe\">\n",
       "  <thead>\n",
       "    <tr style=\"text-align: right;\">\n",
       "      <th></th>\n",
       "      <th>Symbol</th>\n",
       "      <th>Company</th>\n",
       "      <th>Earnings Date</th>\n",
       "      <th>EPS Estimate</th>\n",
       "      <th>Reported EPS</th>\n",
       "      <th>Surprise (%)</th>\n",
       "      <th>Date</th>\n",
       "      <th>Positive Surprise</th>\n",
       "    </tr>\n",
       "  </thead>\n",
       "  <tbody>\n",
       "    <tr>\n",
       "      <th>8</th>\n",
       "      <td>AMZN</td>\n",
       "      <td>Amazon.com, Inc.</td>\n",
       "      <td>April 30, 2024 at 4 PM</td>\n",
       "      <td>0.83</td>\n",
       "      <td>0.98</td>\n",
       "      <td>17.91</td>\n",
       "      <td>2024-04-30 16:00:00</td>\n",
       "      <td>True</td>\n",
       "    </tr>\n",
       "    <tr>\n",
       "      <th>9</th>\n",
       "      <td>AMZN</td>\n",
       "      <td>Amazon.com, Inc.</td>\n",
       "      <td>February 1, 2024 at 4 PM</td>\n",
       "      <td>0.80</td>\n",
       "      <td>1.00</td>\n",
       "      <td>24.55</td>\n",
       "      <td>2024-02-01 16:00:00</td>\n",
       "      <td>True</td>\n",
       "    </tr>\n",
       "    <tr>\n",
       "      <th>10</th>\n",
       "      <td>AMZN</td>\n",
       "      <td>Amazon.com, Inc.</td>\n",
       "      <td>October 26, 2023 at 4 PM</td>\n",
       "      <td>0.58</td>\n",
       "      <td>0.94</td>\n",
       "      <td>60.85</td>\n",
       "      <td>2023-10-26 16:00:00</td>\n",
       "      <td>True</td>\n",
       "    </tr>\n",
       "    <tr>\n",
       "      <th>11</th>\n",
       "      <td>AMZN</td>\n",
       "      <td>Amazon.com, Inc.</td>\n",
       "      <td>August 3, 2023 at 4 PM</td>\n",
       "      <td>0.35</td>\n",
       "      <td>0.65</td>\n",
       "      <td>85.73</td>\n",
       "      <td>2023-08-03 16:00:00</td>\n",
       "      <td>True</td>\n",
       "    </tr>\n",
       "    <tr>\n",
       "      <th>12</th>\n",
       "      <td>AMZN</td>\n",
       "      <td>Amazon.com, Inc.</td>\n",
       "      <td>April 27, 2023 at 4 PM</td>\n",
       "      <td>0.21</td>\n",
       "      <td>0.31</td>\n",
       "      <td>46.36</td>\n",
       "      <td>2023-04-27 16:00:00</td>\n",
       "      <td>True</td>\n",
       "    </tr>\n",
       "    <tr>\n",
       "      <th>...</th>\n",
       "      <td>...</td>\n",
       "      <td>...</td>\n",
       "      <td>...</td>\n",
       "      <td>...</td>\n",
       "      <td>...</td>\n",
       "      <td>...</td>\n",
       "      <td>...</td>\n",
       "      <td>...</td>\n",
       "    </tr>\n",
       "    <tr>\n",
       "      <th>104</th>\n",
       "      <td>AMZN</td>\n",
       "      <td>Amazon.com, Inc.</td>\n",
       "      <td>April 26, 2000 at 12 AM</td>\n",
       "      <td>-0.02</td>\n",
       "      <td>-0.02</td>\n",
       "      <td>3.79</td>\n",
       "      <td>2000-04-26 00:00:00</td>\n",
       "      <td>True</td>\n",
       "    </tr>\n",
       "    <tr>\n",
       "      <th>105</th>\n",
       "      <td>AMZN</td>\n",
       "      <td>Amazon.com, Inc.</td>\n",
       "      <td>February 2, 2000 at 12 AM</td>\n",
       "      <td>-0.02</td>\n",
       "      <td>-0.03</td>\n",
       "      <td>-13.36</td>\n",
       "      <td>2000-02-02 00:00:00</td>\n",
       "      <td>False</td>\n",
       "    </tr>\n",
       "    <tr>\n",
       "      <th>106</th>\n",
       "      <td>AMZN</td>\n",
       "      <td>Amazon.com, Inc.</td>\n",
       "      <td>October 27, 1999 at 12 AM</td>\n",
       "      <td>-0.01</td>\n",
       "      <td>-0.01</td>\n",
       "      <td>7.54</td>\n",
       "      <td>1999-10-27 00:00:00</td>\n",
       "      <td>True</td>\n",
       "    </tr>\n",
       "    <tr>\n",
       "      <th>107</th>\n",
       "      <td>AMZN</td>\n",
       "      <td>Amazon.com, Inc.</td>\n",
       "      <td>July 21, 1999 at 12 AM</td>\n",
       "      <td>-0.01</td>\n",
       "      <td>-0.01</td>\n",
       "      <td>0.47</td>\n",
       "      <td>1999-07-21 00:00:00</td>\n",
       "      <td>True</td>\n",
       "    </tr>\n",
       "    <tr>\n",
       "      <th>108</th>\n",
       "      <td>AMZN</td>\n",
       "      <td>Amazon.com, Inc.</td>\n",
       "      <td>April 28, 1999 at 12 AM</td>\n",
       "      <td>-0.01</td>\n",
       "      <td>-0.01</td>\n",
       "      <td>19.92</td>\n",
       "      <td>1999-04-28 00:00:00</td>\n",
       "      <td>True</td>\n",
       "    </tr>\n",
       "  </tbody>\n",
       "</table>\n",
       "<p>84 rows × 8 columns</p>\n",
       "</div>"
      ],
      "text/plain": [
       "    Symbol           Company              Earnings Date  EPS Estimate  \\\n",
       "8     AMZN  Amazon.com, Inc.     April 30, 2024 at 4 PM          0.83   \n",
       "9     AMZN  Amazon.com, Inc.   February 1, 2024 at 4 PM          0.80   \n",
       "10    AMZN  Amazon.com, Inc.   October 26, 2023 at 4 PM          0.58   \n",
       "11    AMZN  Amazon.com, Inc.     August 3, 2023 at 4 PM          0.35   \n",
       "12    AMZN  Amazon.com, Inc.     April 27, 2023 at 4 PM          0.21   \n",
       "..     ...               ...                        ...           ...   \n",
       "104   AMZN  Amazon.com, Inc.    April 26, 2000 at 12 AM         -0.02   \n",
       "105   AMZN  Amazon.com, Inc.  February 2, 2000 at 12 AM         -0.02   \n",
       "106   AMZN  Amazon.com, Inc.  October 27, 1999 at 12 AM         -0.01   \n",
       "107   AMZN  Amazon.com, Inc.     July 21, 1999 at 12 AM         -0.01   \n",
       "108   AMZN  Amazon.com, Inc.    April 28, 1999 at 12 AM         -0.01   \n",
       "\n",
       "     Reported EPS  Surprise (%)                Date  Positive Surprise  \n",
       "8            0.98         17.91 2024-04-30 16:00:00               True  \n",
       "9            1.00         24.55 2024-02-01 16:00:00               True  \n",
       "10           0.94         60.85 2023-10-26 16:00:00               True  \n",
       "11           0.65         85.73 2023-08-03 16:00:00               True  \n",
       "12           0.31         46.36 2023-04-27 16:00:00               True  \n",
       "..            ...           ...                 ...                ...  \n",
       "104         -0.02          3.79 2000-04-26 00:00:00               True  \n",
       "105         -0.03        -13.36 2000-02-02 00:00:00              False  \n",
       "106         -0.01          7.54 1999-10-27 00:00:00               True  \n",
       "107         -0.01          0.47 1999-07-21 00:00:00               True  \n",
       "108         -0.01         19.92 1999-04-28 00:00:00               True  \n",
       "\n",
       "[84 rows x 8 columns]"
      ]
     },
     "execution_count": 186,
     "metadata": {},
     "output_type": "execute_result"
    }
   ],
   "source": [
    "# Step 4: Identify positive earnings surprises\n",
    "earnings_data['Positive Surprise'] = (\n",
    "    (earnings_data['Reported EPS'] > earnings_data['EPS Estimate']) |\n",
    "    (earnings_data['Surprise (%)'] > 0)\n",
    ")\n",
    "earnings_data"
   ]
  },
  {
   "cell_type": "code",
   "execution_count": 187,
   "id": "b04f68ae-6f84-4abe-b341-013b819a51e8",
   "metadata": {},
   "outputs": [
    {
     "name": "stdout",
     "output_type": "stream",
     "text": [
      "Median 2-day return after positive surprises: -0.17%\n",
      "Overall median 2-day return: 0.15%\n"
     ]
    }
   ],
   "source": [
    "\n",
    "# Step 5: Get the 2-day returns after earnings surprise dates\n",
    "positive_dates = earnings_data.loc[earnings_data['Positive Surprise'], 'Date']\n",
    "# Align to nearest available trading date (next closest in stock_data)\n",
    "\n",
    "returns_after_positive = []\n",
    "\n",
    "\n",
    "returns_after_positive = []\n",
    "stock_data=df\n",
    "for date in positive_dates:\n",
    "    date = pd.to_datetime(date)\n",
    "    \n",
    "    # Find the first available trading day on or after the earnings date\n",
    "    pos = stock_data.index.searchsorted(date)\n",
    "\n",
    "    if pos < len(stock_data.index):\n",
    "        next_trading_day = stock_data.index[pos]\n",
    "\n",
    "        # Access the 2d_return safely\n",
    "        if next_trading_day in stock_data.index and '2d_return' in stock_data.columns:\n",
    "            ret = stock_data.loc[next_trading_day, '2d_return']  # safe 1D lookup\n",
    "            if pd.notna(ret):\n",
    "                returns_after_positive.append(ret)\n",
    "\n",
    "\n",
    "# Step 6: Calculate median return (%)\n",
    "median_positive_return = np.median(returns_after_positive) * 100\n",
    "print(f\"Median 2-day return after positive surprises: {median_positive_return:.2f}%\")\n",
    "\n",
    "# Optional: Median return over all periods\n",
    "overall_median_return = stock_data['2d_return'].median() * 100\n",
    "print(f\"Overall median 2-day return: {overall_median_return:.2f}%\")\n"
   ]
  },
  {
   "cell_type": "code",
   "execution_count": null,
   "id": "f6dd7e89-6f8e-4c13-a89c-18a27a2069ca",
   "metadata": {},
   "outputs": [],
   "source": []
  },
  {
   "cell_type": "code",
   "execution_count": null,
   "id": "5996ea27-918b-45ed-b4f8-94c0aebfdfe3",
   "metadata": {},
   "outputs": [],
   "source": []
  },
  {
   "cell_type": "code",
   "execution_count": null,
   "id": "82a79c6a-515e-4fd7-8816-beb8aae64a02",
   "metadata": {},
   "outputs": [],
   "source": []
  },
  {
   "cell_type": "code",
   "execution_count": null,
   "id": "78ab11d1-7031-4852-80e5-c2221f4a6014",
   "metadata": {},
   "outputs": [],
   "source": []
  }
 ],
 "metadata": {
  "kernelspec": {
   "display_name": "Python 3 (ipykernel)",
   "language": "python",
   "name": "python3"
  },
  "language_info": {
   "codemirror_mode": {
    "name": "ipython",
    "version": 3
   },
   "file_extension": ".py",
   "mimetype": "text/x-python",
   "name": "python",
   "nbconvert_exporter": "python",
   "pygments_lexer": "ipython3",
   "version": "3.12.4"
  }
 },
 "nbformat": 4,
 "nbformat_minor": 5
}
